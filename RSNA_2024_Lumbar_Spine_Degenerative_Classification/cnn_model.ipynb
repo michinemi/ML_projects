{
 "cells": [
  {
   "cell_type": "code",
   "execution_count": 1,
   "metadata": {},
   "outputs": [],
   "source": [
    "# Imports\n",
    "import os\n",
    "import numpy as np\n",
    "import pydicom\n",
    "import cv2\n",
    "import matplotlib.pyplot as plt\n",
    "import pandas as pd\n",
    "\n",
    "import torch\n",
    "import torch.nn as nn\n",
    "from torch.utils.data import DataLoader, TensorDataset\n",
    "import torch.nn.functional as F\n",
    "import torch.optim as optim"
   ]
  },
  {
   "cell_type": "code",
   "execution_count": 2,
   "metadata": {},
   "outputs": [
    {
     "data": {
      "text/plain": [
       "device(type='cpu')"
      ]
     },
     "execution_count": 2,
     "metadata": {},
     "output_type": "execute_result"
    }
   ],
   "source": [
    "# Device configuration\n",
    "device = torch.device('cuda' if torch.cuda.is_available() else 'cpu')\n",
    "device"
   ]
  },
  {
   "cell_type": "markdown",
   "metadata": {},
   "source": [
    "<h2>PIPELINE:</h2>\n",
    "<ol>\n",
    "    <li>Load and prepare data<br></li>\n",
    "    <br>\n",
    "    <li>Design model<br></li>\n",
    "    <br>\n",
    "    <li>Define loss and optimizer<br></li>\n",
    "    <br>\n",
    "    <li>Training loop:<br>\n",
    "        1. forward pass: compute prediction<br>\n",
    "        2. backward pass: gradients<br>\n",
    "        3. update weights<br>\n",
    "    </li>\n",
    "    <br>\n",
    "    <li>Evaluate the model on validation set<br></li>\n",
    "    <br>\n",
    "    <li>Try to classify something<br></li>\n",
    "    <br>\n",
    "</ol>\n",
    "\n",
    "-------------------------------------------------------------------------"
   ]
  },
  {
   "cell_type": "markdown",
   "metadata": {},
   "source": [
    "<h1>1. Load and prepare data</h1>"
   ]
  },
  {
   "cell_type": "code",
   "execution_count": 3,
   "metadata": {},
   "outputs": [],
   "source": [
    "# Load features and targetes\n",
    "\n",
    "# Features\n",
    "root_directory = './small_train_images'\n",
    "study_id_list = os.listdir(root_directory)\n",
    "\n",
    "# Targets\n",
    "dirty_targets_df = pd.read_csv('./data_csv/train.csv')\n",
    "rows_with_null = dirty_targets_df[dirty_targets_df.isnull().any(axis=1)]\n",
    "targets_df = dirty_targets_df.dropna()"
   ]
  },
  {
   "cell_type": "code",
   "execution_count": 4,
   "metadata": {},
   "outputs": [
    {
     "data": {
      "text/plain": [
       "554"
      ]
     },
     "execution_count": 4,
     "metadata": {},
     "output_type": "execute_result"
    }
   ],
   "source": [
    "# Drop exceptions\n",
    "exclude_1 = np.array(['100206310', '1009445512', '1018005303', '1028909382', '10728036', '1075351916', '1075863395', '108348787', '1093392148', '109454808', '1096630192', '109677683', '1104422628', '1106510276', '1117492266', '113121178', '114899184', '1166421944', '1176954132', '1178209527', '1199116491', '1228406967', '1245057921', '1246624345', '1254175796', '1258848546', '1271033295', '1288134514', '1289563234', '1332176994', '1353517692', '1354411109', '1373010257', '1378385941', '1387631768', '1417061937', '1435972903', '1452809491', '1459964234', '1465060325', '1474322336', '1476653507', '1479862846', '1504031267', '1525013622', '1531171418', '1537608176', '1544019340', '1545079332', '155064828', '1573051559', '1576224571', '1588228644', '1589542662', '1603568458', '1661682358', '1664215995', '1666392091', '1666601651', '1670838975', '1676303374', '1677607138', '169651375', '1703116521', '1722993663', '1723430291', '1737682527', '1756304277', '1777680877', '178041181', '1782095928', '1785782006', '1796029449', '1805675557', '1805845915', '1827626416', '1829899535', '1835489622', '1839242409', '1847995287', '1868615696', '1879308612', '1901348744', '1904225580', '1906657742', '1918947564', '1935490243', '1935865758', '1953361780', '1972541574', '1973833645', '1979480595', '1985516615', '200354973', '2004207983', '2009902717', '2015704745', '2026891078', '2028028580', '2072240933', '2091088734', '209512460', '2109299850', '211314658', '2139287338', '215111925', '215149692', '2162304486', '2163780658', '2178420447', '2184738913', '2196440863', '22191399', '2229950158', '2232112217', '2247118504', '2258837013', '2299500502', '2316015842', '2326232647', '2334206006', '2357870240', '2361362757', '2361533111', '2363875605', '2383459912', '2387323642', '2403128572', '2410407945', '2411161648', '2428792562', '2440904686', '2444340715', '2447825792', '245660566', '2466046363', '2470505035', '2479953750', '2490850085', '2530932856', '2568819355', '2570933394', '258027917', '259346069', '2597785056', '2608235425', '2622319181', '26342422', '2649306672', '2657109031', '2661178959', '267842058', '2691903631', '2693314432', '2701226232', '2719549572', '2754246172', '2755347468', '2758494648', '2763838004', '2797118205', '2799878304', '2802584821', '2811192798', '2814554321', '2815518245', '2826913245', '2839406005', '2851578449', '2865067754', '286903519', '2871746964', '2881985242', '2885881158', '2888359875', '289846404', '2918963439', '2925530521', '2937953357', '2953643785', '2959123241', '29931867', '3029953735', '3032490582', '3043181990', '3053259969', '305402206', '3057988981', '3068678959', '3068697362', '3109648055', '3128832901', '3138242355', '3153975178', '3156579406', '3158185203', '3160528641', '3172703788', '3185333113', '3187325767', '3192842688', '3199667842', '3234424112', '3240785276', '3270195628', '3293419987', '329807127', '3308442440', '3318343342', '3319644132', '332284668', '3329250043', '3336194522', '3337564969', '3339741647', '335455502', '3362072295', '3362964060', '3396002092', '3421594215', '3424322302', '3424519397', '3429409220', '3429410502', '3462160059', '3463837032', '347228139', '3477618714', '3478119785', '3480260143', '3486932462', '3487958667', '3489581041', '349723373', '3501721118', '3522926594', '3542358517', '3559395900', '3576859689', '3587452388', '3617361428', '3640325492', '3664042467', '3693117342', '3701224868', '3703663905', '3707028884', '3713534743', '3718047621', '3726613976', '3731783147', '3736664503', '3742728457', '3748910433', '3753583176', '375877945', '3764335465', '3768387090', '3777149998', '3808402167', '3817394595', '3819294762', '3824003946', '3836986623', '3837345060', '3853089836', '3857195576', '3859825215', '3881903999', '3882759508', '3884015124', '3887124538', '391103067', '3912497560', '3930841971', '3945605592', '3956571539', '396152094', '3996069892', '4000809387', '4017932238', '4018516468', '4020499186', '4030506789', '4035562923', '4060447686', '4072191052', '40745534', '4096820034', '4101309917', '4105233324', '4122788296', '4126793119', '4145670277', '416503281', '4165566893', '4167935162', '4171095315', '4201106871', '4205258367', '4231198665', '4259049254', '4271960965', '4279881930', '4279958262', '435244060', '435973854', '450154999', '458625588', '478913051', '481259017', '489097547', '498998339', '52695609', '560780529', '568440982', '582364168', '607371793', '619178879', '624497208', '63725508', '641070736', '652905669', '663849037', '679759364', '683183578', '684747623', '691886557', '696494906', '704573554', '766494595', '777619397', '783154228', '809072026', '838134337', '85480902', '859570985', '86250890', '870897543', '885579922', '893004686', '896290384', '89637298', '899435449', '904367529', '916362094', '924259603', '938755807', '961169106', '968668661', '3303545110', '2794192602', '3369277408', '765688458', '2661378157', '1644528034', '3867046855', '2620453928', '3324678907', '723551942', '1880970480', '642715533', '4140564625', '208289456', '2581283971', '3154638975', '1012375618', '1040921274', '1047914296'])\n",
    "exclude_2 = rows_with_null.iloc[:, 0].to_numpy()\n",
    "exclude_array = np.concatenate((exclude_1, exclude_2))\n",
    "len(exclude_array)"
   ]
  },
  {
   "cell_type": "code",
   "execution_count": 5,
   "metadata": {},
   "outputs": [],
   "source": [
    "# Resize images\n",
    "def resize_image(image_path):\n",
    "    dicom = pydicom.dcmread(image_path)\n",
    "    image_array = dicom.pixel_array\n",
    "    resized_image = cv2.resize(image_array, (224, 224))\n",
    "    return resized_image"
   ]
  },
  {
   "cell_type": "code",
   "execution_count": 6,
   "metadata": {},
   "outputs": [
    {
     "name": "stdout",
     "output_type": "stream",
     "text": [
      "1\n",
      "2\n",
      "3\n",
      "4\n",
      "5\n",
      "6\n",
      "7\n",
      "8\n",
      "9\n",
      "10\n",
      "11\n",
      "12\n"
     ]
    }
   ],
   "source": [
    "# Preprocess features\n",
    "images_dict = {}\n",
    "for i, study_id in enumerate(study_id_list):\n",
    "    print(i+1)\n",
    "    if study_id not in exclude_array:\n",
    "        series_id_list = os.listdir(f'{root_directory}/{study_id}')\n",
    "\n",
    "        for series_id in series_id_list:\n",
    "            images_list = os.listdir(f'{root_directory}/{study_id}/{series_id}')\n",
    "\n",
    "            image_arrays = []\n",
    "            for idx in range(1, len(images_list)+1):\n",
    "                image_path = f'{root_directory}/{study_id}/{series_id}/{idx}.dcm'\n",
    "                resized_image = resize_image(image_path)\n",
    "                image_arrays.append(resized_image)\n",
    "\n",
    "            stacked_images = np.stack(image_arrays, axis=0)\n",
    "\n",
    "            if study_id not in images_dict:\n",
    "                images_dict[study_id] = [np.stack(stacked_images, axis=0)]\n",
    "            else:\n",
    "                images_dict[study_id].append(np.stack(stacked_images, axis=0))\n",
    "\n",
    "max_size = 90 # max number of images in 1 study_id = 247 (90 now)\n",
    "for key, arr_list in images_dict.items():\n",
    "    images_dict[key] = np.concatenate(arr_list, axis=0)\n",
    "    images_dict[key] = torch.from_numpy(images_dict[key])\n",
    "    images_dict[key] = F.pad(images_dict[key], (0, 0, 0, 0, 0, max_size - images_dict[key].size(0)))"
   ]
  },
  {
   "cell_type": "code",
   "execution_count": 7,
   "metadata": {},
   "outputs": [
    {
     "name": "stdout",
     "output_type": "stream",
     "text": [
      "11340341 torch.Size([90, 224, 224])\n",
      "11943292 torch.Size([90, 224, 224])\n",
      "13317052 torch.Size([90, 224, 224])\n",
      "33736057 torch.Size([90, 224, 224])\n",
      "4003253 torch.Size([90, 224, 224])\n",
      "4646740 torch.Size([90, 224, 224])\n",
      "7143189 torch.Size([90, 224, 224])\n",
      "8785691 torch.Size([90, 224, 224])\n"
     ]
    }
   ],
   "source": [
    "# Check features\n",
    "for key, arr in images_dict.items():\n",
    "    print(key, arr.shape)"
   ]
  },
  {
   "cell_type": "code",
   "execution_count": 8,
   "metadata": {},
   "outputs": [],
   "source": [
    "# Prepare targets (own implementation of one-hot encoding)\n",
    "target_dict = {}\n",
    "for key, _ in images_dict.items():\n",
    "    target = targets_df[targets_df['study_id'] == int(key)]\n",
    "    transposed_df = target.iloc[:, 1:].T\n",
    "    one_hot_array = []\n",
    "    for _, row in transposed_df.iterrows():\n",
    "        if row.values == 'Normal/Mild':\n",
    "            one_hot_array.append([1, 0, 0])\n",
    "        elif row.values == 'Moderate':\n",
    "            one_hot_array.append([0, 1, 0])\n",
    "        elif row.values == 'Severe':\n",
    "            one_hot_array.append([0, 0, 1])\n",
    "    target_dict[key] = torch.tensor(one_hot_array)"
   ]
  },
  {
   "cell_type": "code",
   "execution_count": 9,
   "metadata": {},
   "outputs": [
    {
     "name": "stdout",
     "output_type": "stream",
     "text": [
      "11340341 torch.Size([25, 3])\n",
      "11943292 torch.Size([25, 3])\n",
      "13317052 torch.Size([25, 3])\n",
      "33736057 torch.Size([25, 3])\n",
      "4003253 torch.Size([25, 3])\n",
      "4646740 torch.Size([25, 3])\n",
      "7143189 torch.Size([25, 3])\n",
      "8785691 torch.Size([25, 3])\n"
     ]
    }
   ],
   "source": [
    "# Check targets\n",
    "for key, arr in target_dict.items():\n",
    "    print(key, arr.shape)"
   ]
  },
  {
   "cell_type": "code",
   "execution_count": 10,
   "metadata": {},
   "outputs": [],
   "source": [
    "# Convert all tensors to float32\n",
    "feature_tensors = [tensor.float() for tensor in images_dict.values()]\n",
    "target_tensors = [tensor.float() for tensor in target_dict.values()]\n",
    "\n",
    "# Stack the tensors\n",
    "X_train = torch.stack(feature_tensors)\n",
    "X_train = X_train / X_train.max()\n",
    "y_train = torch.stack(target_tensors)"
   ]
  },
  {
   "cell_type": "code",
   "execution_count": 11,
   "metadata": {},
   "outputs": [
    {
     "name": "stdout",
     "output_type": "stream",
     "text": [
      "train tensor 1 | torch.Size([6, 90, 224, 224]) | torch.Size([6, 25, 3])\n",
      "train tensor 2 | torch.Size([2, 90, 224, 224]) | torch.Size([2, 25, 3])\n"
     ]
    }
   ],
   "source": [
    "# Make torch DataLoader\n",
    "batch_size = 6\n",
    "\n",
    "train_dataset = TensorDataset(X_train, y_train)\n",
    "train_loader = DataLoader(train_dataset, batch_size=batch_size, shuffle=True)\n",
    "\n",
    "# Check DataLoader batches\n",
    "for i, train_batch in enumerate(train_loader):\n",
    "    x_train_batch, y_train_batch = train_batch\n",
    "    print(f'train tensor {i+1}', '|', x_train_batch.shape, '|', y_train_batch.shape)"
   ]
  },
  {
   "cell_type": "markdown",
   "metadata": {},
   "source": [
    "<h1>2. Design model (input, output size, forward pass)</h1>"
   ]
  },
  {
   "cell_type": "code",
   "execution_count": 12,
   "metadata": {},
   "outputs": [],
   "source": [
    "# Define hyperparmaters\n",
    "num_epochs = 100\n",
    "learning_rate = 0.01\n",
    "input_channels = X_train.shape[1]"
   ]
  },
  {
   "cell_type": "code",
   "execution_count": 13,
   "metadata": {},
   "outputs": [],
   "source": [
    "# Define the CNN model\n",
    "\n",
    "class CNNModel(nn.Module):\n",
    "    def __init__(self, input_channels):\n",
    "        super(CNNModel, self).__init__()\n",
    "        self.conv1 = nn.Conv2d(input_channels, 6, 5)\n",
    "        self.pool = nn.MaxPool2d(2, 2)\n",
    "        self.conv2 = nn.Conv2d(6, 16, 5)\n",
    "        \n",
    "        self.fc1 = nn.Linear(16 * 53 * 53, 1024)\n",
    "        self.fc2 = nn.Linear(1024, 512)\n",
    "        self.fc3 = nn.Linear(512, 256)\n",
    "        self.fc4 = nn.Linear(256, 25*3)\n",
    "\n",
    "    def forward(self, x):\n",
    "        x = self.pool(F.relu(self.conv1(x)))\n",
    "        x = self.pool(F.relu(self.conv2(x)))\n",
    "\n",
    "        x = torch.flatten(x, 1)\n",
    "        x = F.relu(self.fc1(x))\n",
    "        x = F.relu(self.fc2(x))\n",
    "        x = F.relu(self.fc3(x))\n",
    "        x = self.fc4(x)\n",
    "        x = x.reshape(x.shape[0], 25, 3)\n",
    "\n",
    "        return x"
   ]
  },
  {
   "cell_type": "code",
   "execution_count": 14,
   "metadata": {},
   "outputs": [
    {
     "name": "stdout",
     "output_type": "stream",
     "text": [
      "CNNModel(\n",
      "  (conv1): Conv2d(90, 6, kernel_size=(5, 5), stride=(1, 1))\n",
      "  (pool): MaxPool2d(kernel_size=2, stride=2, padding=0, dilation=1, ceil_mode=False)\n",
      "  (conv2): Conv2d(6, 16, kernel_size=(5, 5), stride=(1, 1))\n",
      "  (fc1): Linear(in_features=44944, out_features=1024, bias=True)\n",
      "  (fc2): Linear(in_features=1024, out_features=512, bias=True)\n",
      "  (fc3): Linear(in_features=512, out_features=256, bias=True)\n",
      "  (fc4): Linear(in_features=256, out_features=75, bias=True)\n",
      ")\n"
     ]
    }
   ],
   "source": [
    "# Apply and check the model\n",
    "model = CNNModel(input_channels)\n",
    "model.to(device)\n",
    "print(model)"
   ]
  },
  {
   "cell_type": "code",
   "execution_count": 15,
   "metadata": {},
   "outputs": [
    {
     "name": "stdout",
     "output_type": "stream",
     "text": [
      "torch.Size([2, 25, 3])\n"
     ]
    }
   ],
   "source": [
    "# Basic check\n",
    "x = torch.randn(2, input_channels, 224, 224)\n",
    "print(model(x).shape)"
   ]
  },
  {
   "cell_type": "markdown",
   "metadata": {},
   "source": [
    "<h1>3. Define loss and optimizer</h1>"
   ]
  },
  {
   "cell_type": "code",
   "execution_count": 16,
   "metadata": {},
   "outputs": [],
   "source": [
    "# Define the loss function\n",
    "criterion = nn.BCEWithLogitsLoss()\n",
    "\n",
    "# Define the optimizer\n",
    "optimizer = optim.Adam(model.parameters(), lr=learning_rate)"
   ]
  },
  {
   "cell_type": "markdown",
   "metadata": {},
   "source": [
    "<h1>4. Training loop:</h1>"
   ]
  },
  {
   "cell_type": "code",
   "execution_count": 17,
   "metadata": {},
   "outputs": [
    {
     "name": "stdout",
     "output_type": "stream",
     "text": [
      "Epoch [1/100], Loss: 5.7963\n",
      "Epoch [2/100], Loss: 1.6358\n",
      "Epoch [3/100], Loss: 0.5477\n",
      "Epoch [4/100], Loss: 0.2785\n",
      "Epoch [5/100], Loss: 0.4960\n",
      "Epoch [6/100], Loss: 0.1987\n",
      "Epoch [7/100], Loss: 0.2660\n",
      "Epoch [8/100], Loss: 0.2338\n",
      "Epoch [9/100], Loss: 0.1994\n",
      "Epoch [10/100], Loss: 0.1843\n",
      "Epoch [11/100], Loss: 0.1172\n",
      "Epoch [12/100], Loss: 0.2586\n",
      "Epoch [13/100], Loss: 0.2176\n",
      "Epoch [14/100], Loss: 0.1813\n",
      "Epoch [15/100], Loss: 0.3498\n",
      "Epoch [16/100], Loss: 0.3122\n",
      "Epoch [17/100], Loss: 0.1699\n",
      "Epoch [18/100], Loss: 0.1481\n",
      "Epoch [19/100], Loss: 0.1798\n",
      "Epoch [20/100], Loss: 0.1561\n",
      "Epoch [21/100], Loss: 0.1661\n",
      "Epoch [22/100], Loss: 0.1621\n",
      "Epoch [23/100], Loss: 0.1623\n",
      "Epoch [24/100], Loss: 0.1969\n",
      "Epoch [25/100], Loss: 0.1499\n",
      "Epoch [26/100], Loss: 0.1274\n",
      "Epoch [27/100], Loss: 0.2737\n",
      "Epoch [28/100], Loss: 0.1689\n",
      "Epoch [29/100], Loss: 0.2056\n",
      "Epoch [30/100], Loss: 0.2933\n",
      "Epoch [31/100], Loss: 0.1960\n",
      "Epoch [32/100], Loss: 0.1625\n",
      "Epoch [33/100], Loss: 0.1700\n",
      "Epoch [34/100], Loss: 0.1966\n",
      "Epoch [35/100], Loss: 0.1530\n",
      "Epoch [36/100], Loss: 0.2825\n",
      "Epoch [37/100], Loss: 0.1500\n",
      "Epoch [38/100], Loss: 0.1873\n",
      "Epoch [39/100], Loss: 0.2634\n",
      "Epoch [40/100], Loss: 0.1865\n",
      "Epoch [41/100], Loss: 0.1722\n",
      "Epoch [42/100], Loss: 0.2494\n",
      "Epoch [43/100], Loss: 0.1294\n",
      "Epoch [44/100], Loss: 0.2585\n",
      "Epoch [45/100], Loss: 0.2459\n",
      "Epoch [46/100], Loss: 0.2226\n",
      "Epoch [47/100], Loss: 0.1645\n",
      "Epoch [48/100], Loss: 0.1515\n",
      "Epoch [49/100], Loss: 0.1966\n",
      "Epoch [50/100], Loss: 0.2632\n",
      "Epoch [51/100], Loss: 0.2797\n",
      "Epoch [52/100], Loss: 0.2135\n",
      "Epoch [53/100], Loss: 0.2261\n",
      "Epoch [54/100], Loss: 0.1981\n",
      "Epoch [55/100], Loss: 0.1723\n",
      "Epoch [56/100], Loss: 0.1535\n",
      "Epoch [57/100], Loss: 0.2648\n",
      "Epoch [58/100], Loss: 0.2551\n",
      "Epoch [59/100], Loss: 0.1891\n",
      "Epoch [60/100], Loss: 0.1465\n",
      "Epoch [61/100], Loss: 0.1513\n",
      "Epoch [62/100], Loss: 0.2343\n",
      "Epoch [63/100], Loss: 0.2173\n",
      "Epoch [64/100], Loss: 0.2420\n",
      "Epoch [65/100], Loss: 0.1377\n",
      "Epoch [66/100], Loss: 0.1926\n",
      "Epoch [67/100], Loss: 0.2461\n",
      "Epoch [68/100], Loss: 0.1481\n",
      "Epoch [69/100], Loss: 0.1568\n",
      "Epoch [70/100], Loss: 0.1874\n",
      "Epoch [71/100], Loss: 0.2491\n",
      "Epoch [72/100], Loss: 0.2572\n",
      "Epoch [73/100], Loss: 0.2355\n",
      "Epoch [74/100], Loss: 0.1660\n",
      "Epoch [75/100], Loss: 0.1549\n",
      "Epoch [76/100], Loss: 0.2279\n",
      "Epoch [77/100], Loss: 0.1989\n",
      "Epoch [78/100], Loss: 0.1621\n",
      "Epoch [79/100], Loss: 0.1935\n",
      "Epoch [80/100], Loss: 0.2567\n",
      "Epoch [81/100], Loss: 0.1323\n",
      "Epoch [82/100], Loss: 0.2308\n",
      "Epoch [83/100], Loss: 0.1976\n",
      "Epoch [84/100], Loss: 0.2538\n",
      "Epoch [85/100], Loss: 0.2925\n",
      "Epoch [86/100], Loss: 0.2595\n",
      "Epoch [87/100], Loss: 0.2148\n",
      "Epoch [88/100], Loss: 0.2430\n",
      "Epoch [89/100], Loss: 0.1866\n",
      "Epoch [90/100], Loss: 0.1576\n",
      "Epoch [91/100], Loss: 0.1651\n",
      "Epoch [92/100], Loss: 0.2277\n",
      "Epoch [93/100], Loss: 0.1793\n",
      "Epoch [94/100], Loss: 0.1760\n",
      "Epoch [95/100], Loss: 0.1238\n",
      "Epoch [96/100], Loss: 0.1350\n",
      "Epoch [97/100], Loss: 0.2573\n",
      "Epoch [98/100], Loss: 0.2525\n",
      "Epoch [99/100], Loss: 0.1613\n",
      "Epoch [100/100], Loss: 0.1876\n"
     ]
    }
   ],
   "source": [
    "# Training loop\n",
    "losses = []\n",
    "for epoch in range(num_epochs):\n",
    "    for features, targets in train_loader:\n",
    "\n",
    "        # Move data to GPU\n",
    "        features, targets = features.to(device), targets.to(device)\n",
    "\n",
    "        # Forward pass\n",
    "        outputs = model(features)\n",
    "        loss = criterion(outputs, targets)\n",
    "\n",
    "        # Backward pass and optimization\n",
    "        optimizer.zero_grad()\n",
    "        loss.backward()\n",
    "        optimizer.step()\n",
    "\n",
    "    # Append the current loss to the list\n",
    "    losses.append(loss.item())\n",
    "\n",
    "    # Print the loss after each epoch\n",
    "    print(f'Epoch [{epoch + 1}/{num_epochs}], Loss: {loss.item():.4f}')"
   ]
  },
  {
   "cell_type": "code",
   "execution_count": 18,
   "metadata": {},
   "outputs": [
    {
     "data": {
      "image/png": "[encoded data removed]",
      "text/plain": [
       "<Figure size 640x480 with 1 Axes>"
      ]
     },
     "metadata": {},
     "output_type": "display_data"
    }
   ],
   "source": [
    "# Plot the loss curve\n",
    "plt.plot(losses)\n",
    "plt.xlabel('Epoch')\n",
    "plt.ylabel('Loss')\n",
    "plt.title('Training Loss Curve')\n",
    "plt.show()"
   ]
  },
  {
   "cell_type": "markdown",
   "metadata": {},
   "source": [
    "<h1>5. Evaluate the model on dev set:</h1>"
   ]
  },
  {
   "cell_type": "code",
   "execution_count": 19,
   "metadata": {},
   "outputs": [],
   "source": [
    "# Refactor the code below later!"
   ]
  },
  {
   "cell_type": "code",
   "execution_count": 20,
   "metadata": {},
   "outputs": [
    {
     "name": "stdout",
     "output_type": "stream",
     "text": [
      "1\n",
      "2\n",
      "3\n",
      "4\n",
      "5\n",
      "6\n",
      "7\n",
      "8\n",
      "9\n",
      "10\n",
      "11\n",
      "12\n",
      "38281420 torch.Size([90, 224, 224])\n",
      "41477684 torch.Size([90, 224, 224])\n",
      "44060036 torch.Size([90, 224, 224])\n",
      "52397721 torch.Size([90, 224, 224])\n",
      "53418228 torch.Size([90, 224, 224])\n",
      "58813022 torch.Size([90, 224, 224])\n",
      "59576878 torch.Size([90, 224, 224])\n",
      "60612428 torch.Size([90, 224, 224])\n",
      "38281420 torch.Size([25, 3])\n",
      "41477684 torch.Size([25, 3])\n",
      "44060036 torch.Size([25, 3])\n",
      "52397721 torch.Size([25, 3])\n",
      "53418228 torch.Size([25, 3])\n",
      "58813022 torch.Size([25, 3])\n",
      "59576878 torch.Size([25, 3])\n",
      "60612428 torch.Size([25, 3])\n",
      "train tensor 1 | torch.Size([6, 90, 224, 224]) | torch.Size([6, 25, 3])\n",
      "train tensor 2 | torch.Size([2, 90, 224, 224]) | torch.Size([2, 25, 3])\n"
     ]
    }
   ],
   "source": [
    "# Load features and targetes\n",
    "\n",
    "# Features\n",
    "root_directory = './small_valid_images'\n",
    "study_id_list = os.listdir(root_directory)\n",
    "\n",
    "# Targets\n",
    "dirty_targets_df = pd.read_csv('./data_csv/train.csv')\n",
    "rows_with_null = dirty_targets_df[dirty_targets_df.isnull().any(axis=1)]\n",
    "targets_df = dirty_targets_df.dropna()\n",
    "\n",
    "# ---------------------------------------------------------------------------------\n",
    "\n",
    "# Preprocess features\n",
    "images_dict = {}\n",
    "for i, study_id in enumerate(study_id_list):\n",
    "    print(i+1)\n",
    "    if study_id not in exclude_array:\n",
    "        series_id_list = os.listdir(f'{root_directory}/{study_id}')\n",
    "\n",
    "        for series_id in series_id_list:\n",
    "            images_list = os.listdir(f'{root_directory}/{study_id}/{series_id}')\n",
    "\n",
    "            image_arrays = []\n",
    "            for idx in range(1, len(images_list)+1):\n",
    "                image_path = f'{root_directory}/{study_id}/{series_id}/{idx}.dcm'\n",
    "                resized_image = resize_image(image_path)\n",
    "                image_arrays.append(resized_image)\n",
    "\n",
    "            stacked_images = np.stack(image_arrays, axis=0)\n",
    "\n",
    "            if study_id not in images_dict:\n",
    "                images_dict[study_id] = [np.stack(stacked_images, axis=0)]\n",
    "            else:\n",
    "                images_dict[study_id].append(np.stack(stacked_images, axis=0))\n",
    "\n",
    "max_size = 90 # max number of images in 1 study_id = 247 (90 now)\n",
    "for key, arr_list in images_dict.items():\n",
    "    images_dict[key] = np.concatenate(arr_list, axis=0)\n",
    "    images_dict[key] = torch.from_numpy(images_dict[key])\n",
    "    images_dict[key] = F.pad(images_dict[key], (0, 0, 0, 0, 0, max_size - images_dict[key].size(0)))\n",
    "\n",
    "\n",
    "# ---------------------------------------------------------------------------------\n",
    "\n",
    "# Check features\n",
    "for key, arr in images_dict.items():\n",
    "    print(key, arr.shape)\n",
    "\n",
    "# ---------------------------------------------------------------------------------\n",
    "\n",
    "# Prepare targets (own implementation of one-hot encoding)\n",
    "target_dict = {}\n",
    "for key, _ in images_dict.items():\n",
    "    target = targets_df[targets_df['study_id'] == int(key)]\n",
    "    transposed_df = target.iloc[:, 1:].T\n",
    "    one_hot_array = []\n",
    "    for _, row in transposed_df.iterrows():\n",
    "        if row.values == 'Normal/Mild':\n",
    "            one_hot_array.append([1, 0, 0])\n",
    "        elif row.values == 'Moderate':\n",
    "            one_hot_array.append([0, 1, 0])\n",
    "        elif row.values == 'Severe':\n",
    "            one_hot_array.append([0, 0, 1])\n",
    "    target_dict[key] = torch.tensor(one_hot_array)\n",
    "\n",
    "# ---------------------------------------------------------------------------------\n",
    "\n",
    "# Check targets\n",
    "for key, arr in target_dict.items():\n",
    "    print(key, arr.shape)\n",
    "\n",
    "# ---------------------------------------------------------------------------------\n",
    "\n",
    "# Convert all tensors to float32\n",
    "feature_tensors = [tensor.float() for tensor in images_dict.values()]\n",
    "target_tensors = [tensor.float() for tensor in target_dict.values()]\n",
    "\n",
    "# Stack the tensors\n",
    "X_train = torch.stack(feature_tensors)\n",
    "X_train = X_train / X_train.max()\n",
    "y_train = torch.stack(target_tensors)\n",
    "\n",
    "# ---------------------------------------------------------------------------------\n",
    "\n",
    "# Make torch DataLoader\n",
    "batch_size = 6\n",
    "\n",
    "valid_dataset = TensorDataset(X_train, y_train)\n",
    "vaild_loader = DataLoader(train_dataset, batch_size=batch_size, shuffle=True)\n",
    "\n",
    "# Check DataLoader batches\n",
    "for i, train_batch in enumerate(vaild_loader):\n",
    "    x_train_batch, y_train_batch = train_batch\n",
    "    print(f'train tensor {i+1}', '|', x_train_batch.shape, '|', y_train_batch.shape)"
   ]
  },
  {
   "cell_type": "code",
   "execution_count": 21,
   "metadata": {},
   "outputs": [
    {
     "name": "stdout",
     "output_type": "stream",
     "text": [
      "Accuracy: 0.8967, Loss: 0.3616\n"
     ]
    }
   ],
   "source": [
    "def validation_function(model, validation_loader, threshold=0.5):\n",
    "\n",
    "    model.eval()  # Set the model to evaluation mode\n",
    "    correct_predictions = 0\n",
    "    total_predictions = 0\n",
    "    total_loss = 0.0\n",
    "\n",
    "    with torch.no_grad():  # Disable gradient calculation\n",
    "        for features, targets in validation_loader:\n",
    "\n",
    "\n",
    "            # Forward pass\n",
    "            outputs = model(features)\n",
    "            \n",
    "            # Compute loss\n",
    "            loss = criterion(outputs, targets)\n",
    "            total_loss += loss.item()\n",
    "\n",
    "\n",
    "            predicted = (outputs > threshold).int()  # Apply threshold\n",
    "\n",
    "            total_predictions += targets.size(0) * targets.size(1) * targets.size(2)\n",
    "            correct_predictions += (predicted == targets).sum().item()\n",
    "\n",
    "    accuracy = correct_predictions / total_predictions\n",
    "    return accuracy, total_loss\n",
    "\n",
    "model_accuracy, total_loss = validation_function(model, vaild_loader)\n",
    "print(f'Accuracy: {model_accuracy:.4f}, Loss: {total_loss:.4f}')"
   ]
  },
  {
   "cell_type": "markdown",
   "metadata": {},
   "source": [
    "<h1>6. Try to classify something</h1>"
   ]
  },
  {
   "cell_type": "code",
   "execution_count": null,
   "metadata": {},
   "outputs": [],
   "source": [
    "# Next step...."
   ]
  }
 ],
 "metadata": {
  "kernelspec": {
   "display_name": ".venv",
   "language": "python",
   "name": "python3"
  },
  "language_info": {
   "codemirror_mode": {
    "name": "ipython",
    "version": 3
   },
   "file_extension": ".py",
   "mimetype": "text/x-python",
   "name": "python",
   "nbconvert_exporter": "python",
   "pygments_lexer": "ipython3",
   "version": "3.12.0"
  }
 },
 "nbformat": 4,
 "nbformat_minor": 2
}
