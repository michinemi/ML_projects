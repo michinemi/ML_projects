{
 "cells": [
  {
   "cell_type": "code",
   "execution_count": 1,
   "metadata": {},
   "outputs": [],
   "source": [
    "import os\n",
    "import pandas as pd\n",
    "from transformers import BertTokenizer\n",
    "import torch"
   ]
  },
  {
   "cell_type": "code",
   "execution_count": 2,
   "metadata": {},
   "outputs": [
    {
     "name": "stdout",
     "output_type": "stream",
     "text": [
      "4.44.2\n",
      "0.34.2\n",
      "2.3.0\n"
     ]
    }
   ],
   "source": [
    "import transformers\n",
    "import accelerate\n",
    "import torch\n",
    "\n",
    "print(transformers.__version__)\n",
    "print(accelerate.__version__)\n",
    "print(torch.__version__)"
   ]
  },
  {
   "cell_type": "code",
   "execution_count": 3,
   "metadata": {},
   "outputs": [],
   "source": [
    "train_pos_folder = './data/aclImdb/train/pos'\n",
    "train_neg_folder = './data/aclImdb/train/neg'\n",
    "\n",
    "train_pos_sentences = [open(os.path.join(train_pos_folder, f)).read().strip() for f in os.listdir(train_pos_folder)]\n",
    "train_neg_sentences = [open(os.path.join(train_neg_folder, f)).read().strip() for f in os.listdir(train_neg_folder)]\n",
    "\n",
    "train_df = pd.DataFrame({\n",
    "    'text': train_pos_sentences + train_neg_sentences,\n",
    "    'label': [1] * len(train_pos_sentences) + [0] * len(train_neg_sentences)  # 1 for positive, 0 for negative\n",
    "})"
   ]
  },
  {
   "cell_type": "code",
   "execution_count": 4,
   "metadata": {},
   "outputs": [],
   "source": [
    "test_pos_folder = './data/aclImdb/test/pos'\n",
    "test_neg_folder = './data/aclImdb/test/neg'\n",
    "\n",
    "test_pos_sentences = [open(os.path.join(test_pos_folder, f)).read().strip() for f in os.listdir(test_pos_folder)]\n",
    "test_neg_sentences = [open(os.path.join(test_neg_folder, f)).read().strip() for f in os.listdir(test_neg_folder)]\n",
    "\n",
    "test_df = pd.DataFrame({\n",
    "    'text': test_pos_sentences + test_neg_sentences,\n",
    "    'label': [1] * len(test_pos_sentences) + [0] * len(test_neg_sentences)  # 1 for positive, 0 for negative\n",
    "})"
   ]
  },
  {
   "cell_type": "code",
   "execution_count": 1,
   "metadata": {},
   "outputs": [
    {
     "ename": "NameError",
     "evalue": "name 'test_df' is not defined",
     "output_type": "error",
     "traceback": [
      "\u001b[1;31m---------------------------------------------------------------------------\u001b[0m",
      "\u001b[1;31mNameError\u001b[0m                                 Traceback (most recent call last)",
      "Cell \u001b[1;32mIn[1], line 1\u001b[0m\n\u001b[1;32m----> 1\u001b[0m test_df\n",
      "\u001b[1;31mNameError\u001b[0m: name 'test_df' is not defined"
     ]
    }
   ],
   "source": [
    "test_df"
   ]
  },
  {
   "cell_type": "code",
   "execution_count": 6,
   "metadata": {},
   "outputs": [
    {
     "name": "stderr",
     "output_type": "stream",
     "text": [
      "d:\\downloads\\downloads_from_browser\\anaconda\\app\\Lib\\site-packages\\transformers\\tokenization_utils_base.py:1601: FutureWarning: `clean_up_tokenization_spaces` was not set. It will be set to `True` by default. This behavior will be depracted in transformers v4.45, and will be then set to `False` by default. For more details check this issue: https://github.com/huggingface/transformers/issues/31884\n",
      "  warnings.warn(\n"
     ]
    }
   ],
   "source": [
    "# Initialize the BERT tokenizer\n",
    "tokenizer = BertTokenizer.from_pretrained('bert-base-uncased')\n",
    "\n",
    "# Tokenize and encode the texts\n",
    "train_text = train_df['text'].tolist()\n",
    "test_text = test_df['text'].tolist()\n",
    "train_encodings = tokenizer(train_text, truncation=True, padding=True, max_length=512)\n",
    "test_encodings = tokenizer(test_text, truncation=True, padding=True, max_length=512)"
   ]
  },
  {
   "cell_type": "code",
   "execution_count": 7,
   "metadata": {},
   "outputs": [],
   "source": [
    "class TextDataset(torch.utils.data.Dataset):\n",
    "    def __init__(self, encodings, labels):\n",
    "        self.encodings = encodings\n",
    "        self.labels = labels\n",
    "\n",
    "    def __getitem__(self, idx):\n",
    "        item = {key: torch.tensor(val[idx]) for key, val in self.encodings.items()}\n",
    "        item['labels'] = torch.tensor(self.labels[idx])\n",
    "        return item\n",
    "\n",
    "    def __len__(self):\n",
    "        return len(self.labels)"
   ]
  },
  {
   "cell_type": "code",
   "execution_count": 8,
   "metadata": {},
   "outputs": [],
   "source": [
    "# Create Dataset Instances\n",
    "train_labels = train_df['label'].tolist()\n",
    "test_labels = test_df['label'].tolist()\n",
    "\n",
    "train_dataset = TextDataset(train_encodings, train_labels)\n",
    "test_dataset = TextDataset(test_encodings, test_labels)"
   ]
  },
  {
   "cell_type": "code",
   "execution_count": 9,
   "metadata": {},
   "outputs": [
    {
     "name": "stderr",
     "output_type": "stream",
     "text": [
      "Some weights of BertForSequenceClassification were not initialized from the model checkpoint at bert-base-uncased and are newly initialized: ['classifier.bias', 'classifier.weight']\n",
      "You should probably TRAIN this model on a down-stream task to be able to use it for predictions and inference.\n"
     ]
    }
   ],
   "source": [
    "from transformers import BertForSequenceClassification\n",
    "\n",
    "model = BertForSequenceClassification.from_pretrained('bert-base-uncased', num_labels=len(set(train_labels)))"
   ]
  },
  {
   "cell_type": "code",
   "execution_count": 10,
   "metadata": {},
   "outputs": [],
   "source": [
    "from transformers import Trainer, TrainingArguments\n",
    "\n",
    "training_args = TrainingArguments(\n",
    "    output_dir='./results',          # output directory\n",
    "    num_train_epochs=3,              # total number of training epochs\n",
    "    per_device_train_batch_size=8,   # batch size per device during training\n",
    "    per_device_eval_batch_size=16,   # batch size for evaluation\n",
    "    warmup_steps=500,                # number of warmup steps for learning rate scheduler\n",
    "    weight_decay=0.01,               # strength of weight decay\n",
    "    logging_dir='./logs',            # directory for storing logs\n",
    ")\n",
    "\n",
    "trainer = Trainer(\n",
    "    model=model,\n",
    "    args=training_args,\n",
    "    train_dataset=train_dataset,\n",
    "    eval_dataset=test_dataset\n",
    ")"
   ]
  },
  {
   "cell_type": "code",
   "execution_count": 11,
   "metadata": {},
   "outputs": [
    {
     "data": {
      "application/vnd.jupyter.widget-view+json": {
       "model_id": "df2f162d5778411c9651bd404ca2d2a3",
       "version_major": 2,
       "version_minor": 0
      },
      "text/plain": [
       "  0%|          | 0/9375 [00:00<?, ?it/s]"
      ]
     },
     "metadata": {},
     "output_type": "display_data"
    },
    {
     "name": "stderr",
     "output_type": "stream",
     "text": [
      "d:\\downloads\\downloads_from_browser\\anaconda\\app\\Lib\\site-packages\\transformers\\models\\bert\\modeling_bert.py:439: UserWarning: 1Torch was not compiled with flash attention. (Triggered internally at C:\\cb\\pytorch_1000000000000\\work\\aten\\src\\ATen\\native\\transformers\\cuda\\sdp_utils.cpp:455.)\n",
      "  attn_output = torch.nn.functional.scaled_dot_product_attention(\n"
     ]
    },
    {
     "name": "stdout",
     "output_type": "stream",
     "text": [
      "{'loss': 0.4636, 'grad_norm': 9.789751052856445, 'learning_rate': 5e-05, 'epoch': 0.16}\n",
      "{'loss': 0.3788, 'grad_norm': 7.839113235473633, 'learning_rate': 4.71830985915493e-05, 'epoch': 0.32}\n",
      "{'loss': 0.3352, 'grad_norm': 16.014102935791016, 'learning_rate': 4.436619718309859e-05, 'epoch': 0.48}\n",
      "{'loss': 0.327, 'grad_norm': 22.45017433166504, 'learning_rate': 4.154929577464789e-05, 'epoch': 0.64}\n",
      "{'loss': 0.3042, 'grad_norm': 1.0483291149139404, 'learning_rate': 3.8732394366197184e-05, 'epoch': 0.8}\n",
      "{'loss': 0.2792, 'grad_norm': 17.93540382385254, 'learning_rate': 3.5915492957746486e-05, 'epoch': 0.96}\n",
      "{'loss': 0.23, 'grad_norm': 0.2011105865240097, 'learning_rate': 3.3098591549295775e-05, 'epoch': 1.12}\n",
      "{'loss': 0.2088, 'grad_norm': 26.24764060974121, 'learning_rate': 3.028169014084507e-05, 'epoch': 1.28}\n",
      "{'loss': 0.202, 'grad_norm': 24.78582191467285, 'learning_rate': 2.746478873239437e-05, 'epoch': 1.44}\n",
      "{'loss': 0.1828, 'grad_norm': 6.840468406677246, 'learning_rate': 2.4647887323943664e-05, 'epoch': 1.6}\n",
      "{'loss': 0.1891, 'grad_norm': 24.671524047851562, 'learning_rate': 2.1830985915492956e-05, 'epoch': 1.76}\n",
      "{'loss': 0.199, 'grad_norm': 0.20703339576721191, 'learning_rate': 1.9014084507042255e-05, 'epoch': 1.92}\n",
      "{'loss': 0.1212, 'grad_norm': 0.03567080944776535, 'learning_rate': 1.619718309859155e-05, 'epoch': 2.08}\n",
      "{'loss': 0.0731, 'grad_norm': 0.135965496301651, 'learning_rate': 1.3380281690140845e-05, 'epoch': 2.24}\n",
      "{'loss': 0.0685, 'grad_norm': 0.026044150814414024, 'learning_rate': 1.056338028169014e-05, 'epoch': 2.4}\n",
      "{'loss': 0.0755, 'grad_norm': 0.02398636005818844, 'learning_rate': 7.746478873239436e-06, 'epoch': 2.56}\n",
      "{'loss': 0.0835, 'grad_norm': 18.488624572753906, 'learning_rate': 4.929577464788732e-06, 'epoch': 2.72}\n",
      "{'loss': 0.0671, 'grad_norm': 0.02163468673825264, 'learning_rate': 2.112676056338028e-06, 'epoch': 2.88}\n",
      "{'train_runtime': 6369.7128, 'train_samples_per_second': 11.774, 'train_steps_per_second': 1.472, 'train_loss': 0.2052007303873698, 'epoch': 3.0}\n"
     ]
    },
    {
     "data": {
      "text/plain": [
       "TrainOutput(global_step=9375, training_loss=0.2052007303873698, metrics={'train_runtime': 6369.7128, 'train_samples_per_second': 11.774, 'train_steps_per_second': 1.472, 'total_flos': 1.9733329152e+16, 'train_loss': 0.2052007303873698, 'epoch': 3.0})"
      ]
     },
     "execution_count": 11,
     "metadata": {},
     "output_type": "execute_result"
    }
   ],
   "source": [
    "# Start training\n",
    "trainer.train()"
   ]
  },
  {
   "cell_type": "code",
   "execution_count": 12,
   "metadata": {},
   "outputs": [
    {
     "data": {
      "application/vnd.jupyter.widget-view+json": {
       "model_id": "a9a978754e7a42828d8bc60666ac8827",
       "version_major": 2,
       "version_minor": 0
      },
      "text/plain": [
       "  0%|          | 0/1563 [00:00<?, ?it/s]"
      ]
     },
     "metadata": {},
     "output_type": "display_data"
    },
    {
     "name": "stdout",
     "output_type": "stream",
     "text": [
      "{'eval_loss': 0.3445657789707184, 'eval_runtime': 628.0659, 'eval_samples_per_second': 39.805, 'eval_steps_per_second': 2.489, 'epoch': 3.0}\n"
     ]
    }
   ],
   "source": [
    "# Evaluate the model on the test dataset\n",
    "eval_results = trainer.evaluate()\n",
    "print(eval_results)"
   ]
  },
  {
   "cell_type": "code",
   "execution_count": 23,
   "metadata": {},
   "outputs": [
    {
     "data": {
      "application/vnd.jupyter.widget-view+json": {
       "model_id": "77f538b1460f477d9dcc3d56e52f6982",
       "version_major": 2,
       "version_minor": 0
      },
      "text/plain": [
       "  0%|          | 0/1563 [00:00<?, ?it/s]"
      ]
     },
     "metadata": {},
     "output_type": "display_data"
    },
    {
     "name": "stdout",
     "output_type": "stream",
     "text": [
      "Accuracy: 0.93708\n",
      "Precision: 0.936556132640831\n",
      "Recall: 0.93768\n",
      "F1 Score: 0.9371177293623826\n"
     ]
    }
   ],
   "source": [
    "from sklearn.metrics import accuracy_score, precision_recall_fscore_support\n",
    "\n",
    "# Get the predicted probabilities and true labels\n",
    "preds = trainer.predict(test_dataset)\n",
    "pred_probs = preds.predictions\n",
    "labels = preds.label_ids\n",
    "\n",
    "# Convert predicted probabilities to class labels (0 or 1)\n",
    "pred_labels = (pred_probs[:, 1] > 0.5).astype(int)\n",
    "\n",
    "# Compute accuracy\n",
    "accuracy = accuracy_score(labels, pred_labels)\n",
    "\n",
    "# Compute precision, recall, and F1 score\n",
    "precision, recall, f1, _ = precision_recall_fscore_support(labels, pred_labels, average='binary')\n",
    "\n",
    "print(\"Accuracy:\", accuracy)\n",
    "print(\"Precision:\", precision)\n",
    "print(\"Recall:\", recall)\n",
    "print(\"F1 Score:\", f1)"
   ]
  }
 ],
 "metadata": {
  "kernelspec": {
   "display_name": "base",
   "language": "python",
   "name": "python3"
  },
  "language_info": {
   "codemirror_mode": {
    "name": "ipython",
    "version": 3
   },
   "file_extension": ".py",
   "mimetype": "text/x-python",
   "name": "python",
   "nbconvert_exporter": "python",
   "pygments_lexer": "ipython3",
   "version": "3.11.7"
  }
 },
 "nbformat": 4,
 "nbformat_minor": 2
}
